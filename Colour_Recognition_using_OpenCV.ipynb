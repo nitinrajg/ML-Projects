{
  "nbformat": 4,
  "nbformat_minor": 0,
  "metadata": {
    "colab": {
      "provenance": [],
      "authorship_tag": "ABX9TyMlv85RMEDRcTksJeR5yeKg",
      "include_colab_link": true
    },
    "kernelspec": {
      "name": "python3",
      "display_name": "Python 3"
    },
    "language_info": {
      "name": "python"
    }
  },
  "cells": [
    {
      "cell_type": "markdown",
      "metadata": {
        "id": "view-in-github",
        "colab_type": "text"
      },
      "source": [
        "<a href=\"https://colab.research.google.com/github/nitinrajg/ML-Projects/blob/main/Colour_Recognition_using_OpenCV.ipynb\" target=\"_parent\"><img src=\"https://colab.research.google.com/assets/colab-badge.svg\" alt=\"Open In Colab\"/></a>"
      ]
    },
    {
      "cell_type": "code",
      "execution_count": 2,
      "metadata": {
        "id": "NDYTahZBk0GK"
      },
      "outputs": [],
      "source": [
        "import numpy as np\n",
        "import pandas as pd\n",
        "import cv2"
      ]
    },
    {
      "cell_type": "code",
      "source": [
        "img = cv2.imread(\"bird.jpg\")"
      ],
      "metadata": {
        "id": "qlCOpPtJk5ij"
      },
      "execution_count": 3,
      "outputs": []
    },
    {
      "cell_type": "code",
      "source": [
        "index=[\"color\", \"color_name\", \"hex\", \"R\", \"G\", \"B\"]\n",
        "csv = pd.read_csv('colors.csv', names=index, header=None)"
      ],
      "metadata": {
        "id": "OK_YEfrZlPFB"
      },
      "execution_count": 4,
      "outputs": []
    },
    {
      "cell_type": "code",
      "source": [
        "clicked = False\n",
        "r = g = b = xpos = ypos = 0"
      ],
      "metadata": {
        "id": "i4AY_fDklRRq"
      },
      "execution_count": 5,
      "outputs": []
    },
    {
      "cell_type": "code",
      "source": [
        "def recognize_color(R,G,B):\n",
        "    minimum = 10000\n",
        "    for i in range(len(csv)):\n",
        "        d = abs(R- int(csv.loc[i,\"R\"])) + abs(G- int(csv.loc[i,\"G\"]))+ abs(B- int(csv.loc[i,\"B\"]))\n",
        "        if(d<=minimum):\n",
        "            minimum = d\n",
        "            cname = csv.loc[i,\"color_name\"]\n",
        "    return cname"
      ],
      "metadata": {
        "id": "oMhwQgzHmIC7"
      },
      "execution_count": 6,
      "outputs": []
    },
    {
      "cell_type": "code",
      "source": [
        "def mouse_click(event, x, y, flags, param):\n",
        "    if event == cv2.EVENT_LBUTTONDBLCLK:\n",
        "        global b,g,r,xpos,ypos, clicked\n",
        "        clicked = True\n",
        "        xpos = x\n",
        "        ypos = y\n",
        "        b,g,r = img[y,x]\n",
        "        b = int(b)\n",
        "        g = int(g)\n",
        "        r = int(r)"
      ],
      "metadata": {
        "id": "SKDdbrPbmKT3"
      },
      "execution_count": 7,
      "outputs": []
    },
    {
      "cell_type": "code",
      "source": [
        "cv2.namedWindow('Color Recognition App')\n",
        "cv2.setMouseCallback('Color Recognition App', mouse_click)\n",
        "while(1):\n",
        "    cv2.imshow(\"Color Recognition App\",img)\n",
        "    if (clicked):\n",
        "\n",
        "        #cv2.rectangle(image, startpoint, endpoint, color, thickness)-1 fills entire rectangle\n",
        "        cv2.rectangle(img,(20,20), (750,60), (b,g,r), -1)\n",
        "#Creating text string to display( Color name and RGB values )\n",
        "        text = recognize_color(r,g,b) + ' R='+ str(r) +  ' G='+ str(g) +  ' B='+ str(b)\n",
        "\n",
        "        #cv2.putText(img,text,start,font(0-7),fontScale,color,thickness,lineType )\n",
        "        cv2.putText(img, text,(50,50),2,0.8,(255,255,255),2,cv2.LINE_AA)\n",
        "#For very light colours we will display text in black colour\n",
        "        if(r+g+b>=600):\n",
        "            cv2.putText(img, text,(50,50),2,0.8,(0,0,0),2,cv2.LINE_AA)\n",
        "\n",
        "        clicked=False\n",
        "#Break the loop when user hits 'esc' key\n",
        "    if cv2.waitKey(20) & 0xFF ==27:\n",
        "        break\n",
        "cv2.destroyAllWindows()"
      ],
      "metadata": {
        "id": "ngCDsf8OmR2M"
      },
      "execution_count": null,
      "outputs": []
    },
    {
      "cell_type": "code",
      "source": [],
      "metadata": {
        "id": "TLNWnrRBmZak"
      },
      "execution_count": null,
      "outputs": []
    },
    {
      "cell_type": "markdown",
      "metadata": {
        "id": "a3a98bcd"
      },
      "source": [
        "### Important: Run Cells Sequentially\n",
        "\n",
        "In Google Colab, it's crucial to run your code cells in the correct order from top to bottom. Variables and functions defined in one cell are only available to subsequent cells *after* the cell defining them has been successfully executed.\n",
        "\n",
        "If you encounter `NameError`s, it's often because a cell is trying to use a variable or function that hasn't been defined yet by an earlier cell."
      ]
    },
    {
      "cell_type": "code",
      "source": [
        "import cv2\n",
        "import numpy as np\n",
        "import pandas as pd\n",
        "import gradio as gr\n",
        "\n",
        "# Load color data\n",
        "index = [\"color\", \"color_name\", \"hex\", \"R\", \"G\", \"B\"]\n",
        "csv = pd.read_csv(\"colors.csv\", names=index, header=None)\n",
        "\n",
        "# Function to recognize color\n",
        "def recognize_color(R, G, B):\n",
        "    minimum = float('inf')\n",
        "    cname = \"Unknown\"\n",
        "    for i in range(len(csv)):\n",
        "        d = abs(R - int(csv.loc[i, \"R\"])) + abs(G - int(csv.loc[i, \"G\"])) + abs(B - int(csv.loc[i, \"B\"]))\n",
        "        if d < minimum:\n",
        "            minimum = d\n",
        "            cname = csv.loc[i, \"color_name\"]\n",
        "    return cname\n",
        "\n",
        "# Core function to handle image + click\n",
        "def detect_color(image, x, y):\n",
        "    # Convert to numpy array\n",
        "    img = np.array(image)\n",
        "\n",
        "    if y >= img.shape[0] or x >= img.shape[1]:\n",
        "        return image, \"Click inside the image.\"\n",
        "\n",
        "    r, g, b = img[y, x]\n",
        "    cname = recognize_color(r, g, b)\n",
        "\n",
        "    # Draw a rectangle + text\n",
        "    img_bgr = cv2.cvtColor(img, cv2.COLOR_RGB2BGR)\n",
        "    cv2.rectangle(img_bgr, (20, 20), (600, 60), (int(b), int(g), int(r)), -1)\n",
        "\n",
        "    text = f\"{cname}  R={r} G={g} B={b}\"\n",
        "    text_color = (0, 0, 0) if r + g + b >= 600 else (255, 255, 255)\n",
        "\n",
        "    cv2.putText(img_bgr, text, (30, 50), cv2.FONT_HERSHEY_SIMPLEX, 0.8, text_color, 2, cv2.LINE_AA)\n",
        "\n",
        "    # Convert back to RGB for display\n",
        "    output_img = cv2.cvtColor(img_bgr, cv2.COLOR_BGR2RGB)\n",
        "    return output_img, text\n",
        "\n",
        "# Gradio UI\n",
        "demo = gr.Interface(\n",
        "    fn=detect_color,\n",
        "    inputs=[\n",
        "        gr.Image(type=\"numpy\", label=\"Upload Image\"),\n",
        "        gr.Number(label=\"X Position (click x)\"),\n",
        "        gr.Number(label=\"Y Position (click y)\")\n",
        "    ],\n",
        "    outputs=[\n",
        "        gr.Image(type=\"numpy\", label=\"Color Recognition Result\"),\n",
        "        gr.Textbox(label=\"Detected Color\")\n",
        "    ],\n",
        "    title=\"🎨 OpenCV Color Recognition App\",\n",
        "    description=\"Upload an image and input X, Y coordinates to detect the nearest color name using OpenCV.\"\n",
        ")\n",
        "\n",
        "demo.launch(debug=True)\n"
      ],
      "metadata": {
        "colab": {
          "base_uri": "https://localhost:8080/",
          "height": 784
        },
        "id": "H7sT-myGobjh",
        "outputId": "5765aceb-d5b5-4a61-bdc7-ef0372b40065"
      },
      "execution_count": 1,
      "outputs": [
        {
          "output_type": "stream",
          "name": "stdout",
          "text": [
            "It looks like you are running Gradio on a hosted Jupyter notebook, which requires `share=True`. Automatically setting `share=True` (you can turn this off by setting `share=False` in `launch()` explicitly).\n",
            "\n",
            "Colab notebook detected. This cell will run indefinitely so that you can see errors and logs. To turn off, set debug=False in launch().\n",
            "* Running on public URL: https://02531e2c9f12d44193.gradio.live\n",
            "\n",
            "This share link expires in 1 week. For free permanent hosting and GPU upgrades, run `gradio deploy` from the terminal in the working directory to deploy to Hugging Face Spaces (https://huggingface.co/spaces)\n"
          ]
        },
        {
          "output_type": "display_data",
          "data": {
            "text/plain": [
              "<IPython.core.display.HTML object>"
            ],
            "text/html": [
              "<div><iframe src=\"https://02531e2c9f12d44193.gradio.live\" width=\"100%\" height=\"500\" allow=\"autoplay; camera; microphone; clipboard-read; clipboard-write;\" frameborder=\"0\" allowfullscreen></iframe></div>"
            ]
          },
          "metadata": {}
        },
        {
          "output_type": "stream",
          "name": "stderr",
          "text": [
            "/tmp/ipython-input-1-2621588461.py:15: RuntimeWarning: overflow encountered in scalar subtract\n",
            "  d = abs(R - int(csv.loc[i, \"R\"])) + abs(G - int(csv.loc[i, \"G\"])) + abs(B - int(csv.loc[i, \"B\"]))\n",
            "/tmp/ipython-input-1-2621588461.py:15: RuntimeWarning: overflow encountered in scalar add\n",
            "  d = abs(R - int(csv.loc[i, \"R\"])) + abs(G - int(csv.loc[i, \"G\"])) + abs(B - int(csv.loc[i, \"B\"]))\n",
            "/tmp/ipython-input-1-2621588461.py:37: RuntimeWarning: overflow encountered in scalar add\n",
            "  text_color = (0, 0, 0) if r + g + b >= 600 else (255, 255, 255)\n"
          ]
        },
        {
          "output_type": "stream",
          "name": "stdout",
          "text": [
            "Keyboard interruption in main thread... closing server.\n",
            "Killing tunnel 127.0.0.1:7860 <> https://02531e2c9f12d44193.gradio.live\n"
          ]
        },
        {
          "output_type": "execute_result",
          "data": {
            "text/plain": []
          },
          "metadata": {},
          "execution_count": 1
        }
      ]
    },
    {
      "cell_type": "code",
      "source": [],
      "metadata": {
        "id": "BPg9Zz3JocA1"
      },
      "execution_count": null,
      "outputs": []
    }
  ]
}